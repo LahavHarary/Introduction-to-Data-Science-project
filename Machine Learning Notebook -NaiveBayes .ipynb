{
 "cells": [
  {
   "cell_type": "code",
   "execution_count": 170,
   "id": "b12af26d",
   "metadata": {},
   "outputs": [],
   "source": [
    "import numpy as np\n",
    "from sklearn import metrics\n",
    "from sklearn.model_selection import train_test_split\n",
    "from sklearn.naive_bayes import GaussianNB\n",
    "import pandas as pd\n",
    "\n",
    "import matplotlib.pyplot as plt\n",
    "from matplotlib.colors import ListedColormap\n",
    "%matplotlib inline"
   ]
  },
  {
   "cell_type": "markdown",
   "id": "e1430f4d",
   "metadata": {},
   "source": [
    "### Functions"
   ]
  },
  {
   "cell_type": "code",
   "execution_count": 171,
   "id": "83f6c0e6",
   "metadata": {},
   "outputs": [],
   "source": [
    "def load_dataset(file_name):\n",
    "    df = pd.read_csv(file_name)\n",
    "    df=df.drop(columns=[\"Unnamed: 0\"])\n",
    "    return df"
   ]
  },
  {
   "cell_type": "code",
   "execution_count": 172,
   "id": "5c0b3904",
   "metadata": {},
   "outputs": [],
   "source": [
    "def split_df_to_x_y(df,target_column):\n",
    "    y=df[target_column]\n",
    "    features = [col for col in df.columns]\n",
    "    features.remove(target_column)\n",
    "    X=df[features]\n",
    "    return X,y"
   ]
  },
  {
   "cell_type": "code",
   "execution_count": 173,
   "id": "037a51b2",
   "metadata": {},
   "outputs": [],
   "source": [
    "def split_to_train_and_test(X, y, test_ratio, rand_state):\n",
    "    X_train, X_test, y_train, y_test = train_test_split(X,y,test_size=test_ratio,random_state=rand_state)\n",
    "    return X_train, X_test, y_train, y_test\n"
   ]
  },
  {
   "cell_type": "markdown",
   "id": "36fe7334",
   "metadata": {},
   "source": [
    "## NaiveBase Flow"
   ]
  },
  {
   "attachments": {},
   "cell_type": "markdown",
   "id": "18b6265f",
   "metadata": {},
   "source": [
    "### Injured"
   ]
  },
  {
   "cell_type": "code",
   "execution_count": 174,
   "id": "d014bdac",
   "metadata": {},
   "outputs": [],
   "source": [
    "df = load_dataset('df_to_model.csv')"
   ]
  },
  {
   "cell_type": "code",
   "execution_count": 175,
   "id": "14de7151",
   "metadata": {},
   "outputs": [],
   "source": [
    "target_column=\"INJURED\"\n",
    "X,y = split_df_to_x_y(df,target_column)"
   ]
  },
  {
   "cell_type": "code",
   "execution_count": 176,
   "id": "4b2bdf15",
   "metadata": {},
   "outputs": [],
   "source": [
    "rand_state=1\n",
    "test_ratio=0.20\n",
    "XTrain, XTest, yTrain, yTest=split_to_train_and_test(X, y, test_ratio, rand_state)"
   ]
  },
  {
   "cell_type": "code",
   "execution_count": 177,
   "id": "8a2bef13",
   "metadata": {},
   "outputs": [
    {
     "name": "stdout",
     "output_type": "stream",
     "text": [
      "Accuracy on Train data=  0.48438253474201043\n",
      "Accuracy on test data=  0.48058039628265825\n"
     ]
    }
   ],
   "source": [
    "gnb = GaussianNB()\n",
    "\n",
    "\n",
    "# Train classifier\n",
    "gnb.fit(XTrain,yTrain)\n",
    "\n",
    "y_pred = gnb.predict(XTest)\n",
    "y_pred_train = gnb.predict(XTrain)\n",
    "\n",
    "# Print results\n",
    "print('Accuracy on Train data= ', metrics.accuracy_score(y_true = yTrain, y_pred = y_pred_train))\n",
    "print('Accuracy on test data= ', metrics.accuracy_score(y_true = yTest, y_pred = y_pred))"
   ]
  },
  {
   "cell_type": "markdown",
   "id": "d1952f4e",
   "metadata": {},
   "source": [
    "### With bins"
   ]
  },
  {
   "cell_type": "code",
   "execution_count": 194,
   "id": "2f8b80f0",
   "metadata": {},
   "outputs": [],
   "source": [
    "df = load_dataset('df_to_model.csv')"
   ]
  },
  {
   "cell_type": "code",
   "execution_count": 195,
   "id": "7f9e0512",
   "metadata": {},
   "outputs": [],
   "source": [
    "new_injured=pd.cut(df.INJURED,bins=[-1,0,1,10,50,100,200000],labels=[0,1,2,3,4,5])\n",
    "df[\"INJURED\"]=new_injured"
   ]
  },
  {
   "cell_type": "code",
   "execution_count": 196,
   "id": "346a805a",
   "metadata": {},
   "outputs": [],
   "source": [
    "new_fatalities=pd.cut(df.FATALITIES,bins=[-1,0,1,10,50,100,200000],labels=[0,1,2,3,4,5])\n",
    "df[\"FATALITIES\"]=new_fatalities"
   ]
  },
  {
   "cell_type": "code",
   "execution_count": 197,
   "id": "3307b4c9",
   "metadata": {},
   "outputs": [],
   "source": [
    "target_column=\"INJURED\"\n",
    "X,y = split_df_to_x_y(df,target_column)"
   ]
  },
  {
   "cell_type": "code",
   "execution_count": 198,
   "id": "927a1a3a",
   "metadata": {},
   "outputs": [],
   "source": [
    "rand_state=1\n",
    "test_ratio=0.20\n",
    "XTrain, XTest, yTrain, yTest=split_to_train_and_test(X, y, test_ratio, rand_state)"
   ]
  },
  {
   "cell_type": "code",
   "execution_count": 199,
   "id": "30c24303",
   "metadata": {},
   "outputs": [
    {
     "name": "stdout",
     "output_type": "stream",
     "text": [
      "Accuracy on Train data=  0.6175090964885362\n",
      "Accuracy on test data=  0.6149395055234087\n"
     ]
    }
   ],
   "source": [
    "gnb = GaussianNB()\n",
    "\n",
    "# Train classifier\n",
    "gnb.fit(XTrain,yTrain)\n",
    "\n",
    "y_pred = gnb.predict(XTest)\n",
    "y_pred_train = gnb.predict(XTrain)\n",
    "\n",
    "# Print results\n",
    "print('Accuracy on Train data= ', metrics.accuracy_score(y_true = yTrain, y_pred = y_pred_train))\n",
    "print('Accuracy on test data= ', metrics.accuracy_score(y_true = yTest, y_pred = y_pred))"
   ]
  },
  {
   "cell_type": "markdown",
   "id": "dfc61cb9",
   "metadata": {},
   "source": [
    "### bins [0,1]"
   ]
  },
  {
   "cell_type": "code",
   "execution_count": 200,
   "id": "8f86efb7",
   "metadata": {},
   "outputs": [],
   "source": [
    "df = load_dataset('df_to_model.csv')"
   ]
  },
  {
   "cell_type": "code",
   "execution_count": 201,
   "id": "2b319dc7",
   "metadata": {},
   "outputs": [],
   "source": [
    "new_injured=pd.cut(df.INJURED,bins=[-1,0,200000],labels=[0,1])\n",
    "df[\"INJURED\"]=new_injured"
   ]
  },
  {
   "cell_type": "code",
   "execution_count": 202,
   "id": "d5ca31c2",
   "metadata": {},
   "outputs": [],
   "source": [
    "new_fatalities=pd.cut(df.FATALITIES,bins=[-1,0,200000],labels=[0,1])\n",
    "df[\"FATALITIES\"]=new_fatalities"
   ]
  },
  {
   "cell_type": "code",
   "execution_count": 203,
   "id": "56f993aa",
   "metadata": {},
   "outputs": [],
   "source": [
    "target_column=\"INJURED\"\n",
    "X,y = split_df_to_x_y(df,target_column)"
   ]
  },
  {
   "cell_type": "code",
   "execution_count": 204,
   "id": "751a0dc4",
   "metadata": {},
   "outputs": [],
   "source": [
    "rand_state=1\n",
    "test_ratio=0.20\n",
    "XTrain, XTest, yTrain, yTest=split_to_train_and_test(X, y, test_ratio, rand_state)"
   ]
  },
  {
   "cell_type": "code",
   "execution_count": 205,
   "id": "00f2a314",
   "metadata": {},
   "outputs": [
    {
     "name": "stdout",
     "output_type": "stream",
     "text": [
      "Accuracy on Train data=  0.6568431896891851\n",
      "Accuracy on test data=  0.6488251797299667\n"
     ]
    }
   ],
   "source": [
    "gnb = GaussianNB()\n",
    "\n",
    "# Train classifier\n",
    "gnb.fit(XTrain,yTrain)\n",
    "\n",
    "y_pred = gnb.predict(XTest)\n",
    "y_pred_train = gnb.predict(XTrain)\n",
    "\n",
    "# Print results\n",
    "print('Accuracy on Train data= ', metrics.accuracy_score(y_true = yTrain, y_pred = y_pred_train))\n",
    "print('Accuracy on test data= ', metrics.accuracy_score(y_true = yTest, y_pred = y_pred))"
   ]
  },
  {
   "cell_type": "markdown",
   "id": "a5ffeec3",
   "metadata": {},
   "source": [
    "### try with BernoulliNB"
   ]
  },
  {
   "cell_type": "code",
   "execution_count": 206,
   "id": "d06158b1",
   "metadata": {},
   "outputs": [],
   "source": [
    "df = load_dataset('df_to_model.csv')"
   ]
  },
  {
   "cell_type": "code",
   "execution_count": 207,
   "id": "f58a7447",
   "metadata": {},
   "outputs": [],
   "source": [
    "new_fatalities=pd.cut(df.FATALITIES,bins=[-1,0,200000],labels=[0,1])\n",
    "df[\"FATALITIES\"]=new_fatalities"
   ]
  },
  {
   "cell_type": "code",
   "execution_count": 208,
   "id": "a108130f",
   "metadata": {},
   "outputs": [],
   "source": [
    "new_injured=pd.cut(df.INJURED,bins=[-1,0,200000],labels=[0,1])\n",
    "df[\"INJURED\"]=new_injured"
   ]
  },
  {
   "cell_type": "code",
   "execution_count": 209,
   "id": "be6b8a29",
   "metadata": {},
   "outputs": [],
   "source": [
    "target_column=\"INJURED\"\n",
    "X,y = split_df_to_x_y(df,target_column)"
   ]
  },
  {
   "cell_type": "code",
   "execution_count": 210,
   "id": "d3977a48",
   "metadata": {},
   "outputs": [],
   "source": [
    "rand_state=1\n",
    "test_ratio=0.20\n",
    "XTrain, XTest, yTrain, yTest=split_to_train_and_test(X, y, test_ratio, rand_state)"
   ]
  },
  {
   "cell_type": "code",
   "execution_count": 211,
   "id": "a1ada8db",
   "metadata": {},
   "outputs": [
    {
     "name": "stdout",
     "output_type": "stream",
     "text": [
      "Accuracy on Train data=  0.6593529437552058\n",
      "Accuracy on test data=  0.6563650710152551\n"
     ]
    }
   ],
   "source": [
    "from sklearn.naive_bayes import BernoulliNB\n",
    "gnb = BernoulliNB()\n",
    "\n",
    "\n",
    "# Train classifier\n",
    "gnb.fit(XTrain,yTrain)\n",
    "\n",
    "y_pred = gnb.predict(XTest)\n",
    "y_pred_train = gnb.predict(XTrain)\n",
    "\n",
    "# Print results\n",
    "print('Accuracy on Train data= ', metrics.accuracy_score(y_true = yTrain, y_pred = y_pred_train))\n",
    "print('Accuracy on test data= ', metrics.accuracy_score(y_true = yTest, y_pred = y_pred))"
   ]
  },
  {
   "cell_type": "markdown",
   "id": "ab474e92",
   "metadata": {},
   "source": [
    "### try with CategoricalNB"
   ]
  },
  {
   "cell_type": "code",
   "execution_count": 256,
   "id": "d02d1faa",
   "metadata": {},
   "outputs": [],
   "source": [
    "df = load_dataset('df_to_model.csv')"
   ]
  },
  {
   "cell_type": "code",
   "execution_count": 257,
   "id": "96bc25c3",
   "metadata": {},
   "outputs": [],
   "source": [
    "new_fatalities=pd.cut(df.FATALITIES,bins=[-1,0,200000],labels=[0,1])\n",
    "df[\"FATALITIES\"]=new_fatalities"
   ]
  },
  {
   "cell_type": "code",
   "execution_count": 258,
   "id": "1291a669",
   "metadata": {},
   "outputs": [],
   "source": [
    "new_injured=pd.cut(df.INJURED,bins=[-1,0,200000],labels=[0,1])\n",
    "df[\"INJURED\"]=new_injured"
   ]
  },
  {
   "cell_type": "code",
   "execution_count": 259,
   "id": "5d8c55b0",
   "metadata": {},
   "outputs": [],
   "source": [
    "target_column=\"INJURED\"\n",
    "X,y = split_df_to_x_y(df,target_column)"
   ]
  },
  {
   "cell_type": "code",
   "execution_count": 260,
   "id": "a23f6f62",
   "metadata": {},
   "outputs": [],
   "source": [
    "rand_state=1\n",
    "test_ratio=0.20\n",
    "XTrain, XTest, yTrain, yTest=split_to_train_and_test(X, y, test_ratio, rand_state)"
   ]
  },
  {
   "cell_type": "code",
   "execution_count": 261,
   "id": "86c8d30b",
   "metadata": {},
   "outputs": [
    {
     "name": "stdout",
     "output_type": "stream",
     "text": [
      "Accuracy on Train data=  0.7466134759545833\n",
      "Accuracy on test data=  0.6939768542872172\n"
     ]
    }
   ],
   "source": [
    "from sklearn.naive_bayes import CategoricalNB\n",
    "gnb = CategoricalNB()\n",
    "\n",
    "\n",
    "# Train classifier\n",
    "gnb.fit(XTrain,yTrain)\n",
    "\n",
    "y_pred = gnb.predict(XTest)\n",
    "y_pred_train = gnb.predict(XTrain)\n",
    "\n",
    "# Print results\n",
    "print('Accuracy on Train data= ', metrics.accuracy_score(y_true = yTrain, y_pred = y_pred_train))\n",
    "print('Accuracy on test data= ', metrics.accuracy_score(y_true = yTest, y_pred = y_pred))"
   ]
  },
  {
   "cell_type": "markdown",
   "id": "8abe975b",
   "metadata": {},
   "source": [
    "### fatalities"
   ]
  },
  {
   "cell_type": "code",
   "execution_count": 212,
   "id": "dca22910",
   "metadata": {},
   "outputs": [],
   "source": [
    "df = load_dataset('df_to_model.csv')"
   ]
  },
  {
   "cell_type": "code",
   "execution_count": 213,
   "id": "28504a20",
   "metadata": {},
   "outputs": [],
   "source": [
    "target_column=\"FATALITIES\"\n",
    "X,y = split_df_to_x_y(df,target_column)"
   ]
  },
  {
   "cell_type": "code",
   "execution_count": 214,
   "id": "59622b7d",
   "metadata": {},
   "outputs": [],
   "source": [
    "rand_state=1\n",
    "test_ratio=0.20\n",
    "XTrain, XTest, yTrain, yTest=split_to_train_and_test(X, y, test_ratio, rand_state)"
   ]
  },
  {
   "cell_type": "code",
   "execution_count": 215,
   "id": "2e81797b",
   "metadata": {},
   "outputs": [
    {
     "name": "stdout",
     "output_type": "stream",
     "text": [
      "Accuracy on Train data=  0.5683442198939108\n",
      "Accuracy on test data=  0.5655795195511134\n"
     ]
    }
   ],
   "source": [
    "gnb = GaussianNB()\n",
    "\n",
    "\n",
    "# Train classifier\n",
    "gnb.fit(XTrain,yTrain)\n",
    "\n",
    "y_pred = gnb.predict(XTest)\n",
    "y_pred_train = gnb.predict(XTrain)\n",
    "\n",
    "# Print results\n",
    "print('Accuracy on Train data= ', metrics.accuracy_score(y_true = yTrain, y_pred = y_pred_train))\n",
    "print('Accuracy on test data= ', metrics.accuracy_score(y_true = yTest, y_pred = y_pred))"
   ]
  },
  {
   "cell_type": "markdown",
   "id": "7e04d143",
   "metadata": {},
   "source": [
    "### with bins"
   ]
  },
  {
   "cell_type": "code",
   "execution_count": 216,
   "id": "52060d24",
   "metadata": {},
   "outputs": [],
   "source": [
    "df = load_dataset('df_to_model.csv')"
   ]
  },
  {
   "cell_type": "code",
   "execution_count": 217,
   "id": "e22b89e0",
   "metadata": {},
   "outputs": [],
   "source": [
    "new_fatalities=pd.cut(df.FATALITIES,bins=[-1,0,1,10,50,100,200000],labels=[0,1,2,3,4,5])\n",
    "df[\"FATALITIES\"]=new_fatalities"
   ]
  },
  {
   "cell_type": "code",
   "execution_count": 218,
   "id": "497df75c",
   "metadata": {},
   "outputs": [],
   "source": [
    "new_injured=pd.cut(df.INJURED,bins=[-1,0,1,10,50,100,200000],labels=[0,1,2,3,4,5])\n",
    "df[\"INJURED\"]=new_injured"
   ]
  },
  {
   "cell_type": "code",
   "execution_count": 219,
   "id": "189443eb",
   "metadata": {},
   "outputs": [],
   "source": [
    "target_column=\"FATALITIES\"\n",
    "X,y = split_df_to_x_y(df,target_column)"
   ]
  },
  {
   "cell_type": "code",
   "execution_count": 220,
   "id": "32a81eb7",
   "metadata": {},
   "outputs": [],
   "source": [
    "rand_state=1\n",
    "test_ratio=0.20\n",
    "XTrain, XTest, yTrain, yTest=split_to_train_and_test(X, y, test_ratio, rand_state)"
   ]
  },
  {
   "cell_type": "code",
   "execution_count": 221,
   "id": "bc0717d5",
   "metadata": {},
   "outputs": [
    {
     "name": "stdout",
     "output_type": "stream",
     "text": [
      "Accuracy on Train data=  0.6219039060102582\n",
      "Accuracy on test data=  0.6219533578818166\n"
     ]
    }
   ],
   "source": [
    "gnb = GaussianNB()\n",
    "\n",
    "\n",
    "# Train classifier\n",
    "gnb.fit(XTrain,yTrain)\n",
    "\n",
    "y_pred = gnb.predict(XTest)\n",
    "y_pred_train = gnb.predict(XTrain)\n",
    "\n",
    "# Print results\n",
    "print('Accuracy on Train data= ', metrics.accuracy_score(y_true = yTrain, y_pred = y_pred_train))\n",
    "print('Accuracy on test data= ', metrics.accuracy_score(y_true = yTest, y_pred = y_pred))"
   ]
  },
  {
   "cell_type": "markdown",
   "id": "f9a4e999",
   "metadata": {},
   "source": [
    "### bins[0,1]"
   ]
  },
  {
   "cell_type": "code",
   "execution_count": 232,
   "id": "2bc097f6",
   "metadata": {},
   "outputs": [],
   "source": [
    "df = load_dataset('df_to_model.csv')"
   ]
  },
  {
   "cell_type": "code",
   "execution_count": 233,
   "id": "1fba2324",
   "metadata": {},
   "outputs": [],
   "source": [
    "new_fatalities=pd.cut(df.FATALITIES,bins=[-1,0,200000],labels=[0,1])\n",
    "df[\"FATALITIES\"]=new_fatalities"
   ]
  },
  {
   "cell_type": "code",
   "execution_count": 234,
   "id": "08af8e6f",
   "metadata": {},
   "outputs": [],
   "source": [
    "new_injured=pd.cut(df.INJURED,bins=[-1,0,200000],labels=[0,1])\n",
    "df[\"INJURED\"]=new_injured"
   ]
  },
  {
   "cell_type": "code",
   "execution_count": 235,
   "id": "23ecf217",
   "metadata": {},
   "outputs": [],
   "source": [
    "target_column=\"FATALITIES\"\n",
    "X,y = split_df_to_x_y(df,target_column)"
   ]
  },
  {
   "cell_type": "code",
   "execution_count": 236,
   "id": "a1104807",
   "metadata": {},
   "outputs": [],
   "source": [
    "rand_state=1\n",
    "test_ratio=0.20\n",
    "XTrain, XTest, yTrain, yTest=split_to_train_and_test(X, y, test_ratio, rand_state)"
   ]
  },
  {
   "cell_type": "code",
   "execution_count": 237,
   "id": "f6443f03",
   "metadata": {},
   "outputs": [
    {
     "name": "stdout",
     "output_type": "stream",
     "text": [
      "Accuracy on Train data=  0.7644776642847749\n",
      "Accuracy on test data=  0.7664387164650184\n"
     ]
    }
   ],
   "source": [
    "gnb = GaussianNB()\n",
    "\n",
    "\n",
    "# Train classifier\n",
    "gnb.fit(XTrain,yTrain)\n",
    "\n",
    "y_pred = gnb.predict(XTest)\n",
    "y_pred_train = gnb.predict(XTrain)\n",
    "\n",
    "# Print results\n",
    "print('Accuracy on Train data= ', metrics.accuracy_score(y_true = yTrain, y_pred = y_pred_train))\n",
    "print('Accuracy on test data= ', metrics.accuracy_score(y_true = yTest, y_pred = y_pred))"
   ]
  },
  {
   "cell_type": "markdown",
   "id": "2d73e59f",
   "metadata": {},
   "source": [
    "### try with BernoulliNB"
   ]
  },
  {
   "cell_type": "code",
   "execution_count": 238,
   "id": "1a426032",
   "metadata": {},
   "outputs": [],
   "source": [
    "df = load_dataset('df_to_model.csv')"
   ]
  },
  {
   "cell_type": "code",
   "execution_count": 239,
   "id": "03c051c7",
   "metadata": {},
   "outputs": [],
   "source": [
    "new_fatalities=pd.cut(df.FATALITIES,bins=[-1,0,200000],labels=[0,1])\n",
    "df[\"FATALITIES\"]=new_fatalities"
   ]
  },
  {
   "cell_type": "code",
   "execution_count": 240,
   "id": "3e7f2a21",
   "metadata": {},
   "outputs": [],
   "source": [
    "new_injured=pd.cut(df.INJURED,bins=[-1,0,200000],labels=[0,1])\n",
    "df[\"INJURED\"]=new_injured"
   ]
  },
  {
   "cell_type": "code",
   "execution_count": 241,
   "id": "a7466ae8",
   "metadata": {},
   "outputs": [],
   "source": [
    "target_column=\"FATALITIES\"\n",
    "X,y = split_df_to_x_y(df,target_column)"
   ]
  },
  {
   "cell_type": "code",
   "execution_count": 242,
   "id": "a35c1552",
   "metadata": {},
   "outputs": [],
   "source": [
    "rand_state=1\n",
    "test_ratio=0.20\n",
    "XTrain, XTest, yTrain, yTest=split_to_train_and_test(X, y, test_ratio, rand_state)"
   ]
  },
  {
   "cell_type": "code",
   "execution_count": 243,
   "id": "6ccc9a6c",
   "metadata": {},
   "outputs": [
    {
     "name": "stdout",
     "output_type": "stream",
     "text": [
      "Accuracy on Train data=  0.7485314102845119\n",
      "Accuracy on test data=  0.7539014553743644\n"
     ]
    }
   ],
   "source": [
    "from sklearn.naive_bayes import BernoulliNB\n",
    "gnb = BernoulliNB()\n",
    "\n",
    "\n",
    "# Train classifier\n",
    "gnb.fit(XTrain,yTrain)\n",
    "\n",
    "y_pred = gnb.predict(XTest)\n",
    "y_pred_train = gnb.predict(XTrain)\n",
    "\n",
    "# Print results\n",
    "print('Accuracy on Train data= ', metrics.accuracy_score(y_true = yTrain, y_pred = y_pred_train))\n",
    "print('Accuracy on test data= ', metrics.accuracy_score(y_true = yTest, y_pred = y_pred))"
   ]
  },
  {
   "cell_type": "code",
   "execution_count": null,
   "id": "00306719",
   "metadata": {},
   "outputs": [],
   "source": []
  },
  {
   "cell_type": "markdown",
   "id": "8b526d7a",
   "metadata": {},
   "source": [
    "### try with CategoricalNB"
   ]
  },
  {
   "cell_type": "code",
   "execution_count": 244,
   "id": "a5330118",
   "metadata": {},
   "outputs": [],
   "source": [
    "df = load_dataset('df_to_model.csv')"
   ]
  },
  {
   "cell_type": "code",
   "execution_count": 245,
   "id": "2f34cbe7",
   "metadata": {},
   "outputs": [],
   "source": [
    "new_fatalities=pd.cut(df.FATALITIES,bins=[-1,0,200000],labels=[0,1])\n",
    "df[\"FATALITIES\"]=new_fatalities"
   ]
  },
  {
   "cell_type": "code",
   "execution_count": 246,
   "id": "fb261ab1",
   "metadata": {},
   "outputs": [],
   "source": [
    "new_injured=pd.cut(df.INJURED,bins=[-1,0,200000],labels=[0,1])\n",
    "df[\"INJURED\"]=new_injured"
   ]
  },
  {
   "cell_type": "code",
   "execution_count": 247,
   "id": "3cd6a2a9",
   "metadata": {},
   "outputs": [],
   "source": [
    "target_column=\"FATALITIES\"\n",
    "X,y = split_df_to_x_y(df,target_column)"
   ]
  },
  {
   "cell_type": "code",
   "execution_count": 248,
   "id": "94ef144c",
   "metadata": {},
   "outputs": [],
   "source": [
    "rand_state=1\n",
    "test_ratio=0.20\n",
    "XTrain, XTest, yTrain, yTest=split_to_train_and_test(X, y, test_ratio, rand_state)"
   ]
  },
  {
   "cell_type": "code",
   "execution_count": 249,
   "id": "19edf3c6",
   "metadata": {},
   "outputs": [
    {
     "name": "stdout",
     "output_type": "stream",
     "text": [
      "Accuracy on Train data=  0.7907369251676822\n",
      "Accuracy on test data=  0.7735840785551464\n"
     ]
    }
   ],
   "source": [
    "from sklearn.naive_bayes import CategoricalNB\n",
    "gnb = CategoricalNB()\n",
    "\n",
    "\n",
    "# Train classifier\n",
    "gnb.fit(XTrain,yTrain)\n",
    "\n",
    "y_pred = gnb.predict(XTest)\n",
    "y_pred_train = gnb.predict(XTrain)\n",
    "\n",
    "# Print results\n",
    "print('Accuracy on Train data= ', metrics.accuracy_score(y_true = yTrain, y_pred = y_pred_train))\n",
    "print('Accuracy on test data= ', metrics.accuracy_score(y_true = yTest, y_pred = y_pred))"
   ]
  },
  {
   "cell_type": "markdown",
   "id": "71b9b736",
   "metadata": {},
   "source": [
    "### second try with CategoricalNB, with different bins"
   ]
  },
  {
   "cell_type": "code",
   "execution_count": 250,
   "id": "0ae428e9",
   "metadata": {},
   "outputs": [],
   "source": [
    "df = load_dataset('df_to_model.csv')"
   ]
  },
  {
   "cell_type": "code",
   "execution_count": 251,
   "id": "fc743de7",
   "metadata": {},
   "outputs": [],
   "source": [
    "new_fatalities=pd.cut(df.FATALITIES,bins=[-1,0,1,10,50,100,2000],labels=[0,1,2,3,4,5])\n",
    "df[\"FATALITIES\"]=new_fatalities"
   ]
  },
  {
   "cell_type": "code",
   "execution_count": 252,
   "id": "dd4a3205",
   "metadata": {},
   "outputs": [],
   "source": [
    "new_injured=pd.cut(df.INJURED,bins=[-1,0,1,10,50,100,20000],labels=[0,1,2,3,4,5])\n",
    "df[\"INJURED\"]=new_injured"
   ]
  },
  {
   "cell_type": "code",
   "execution_count": 253,
   "id": "ee9e8c33",
   "metadata": {},
   "outputs": [],
   "source": [
    "target_column=\"FATALITIES\"\n",
    "X,y = split_df_to_x_y(df,target_column)"
   ]
  },
  {
   "cell_type": "code",
   "execution_count": 254,
   "id": "434b595c",
   "metadata": {},
   "outputs": [],
   "source": [
    "rand_state=1\n",
    "test_ratio=0.20\n",
    "XTrain, XTest, yTrain, yTest=split_to_train_and_test(X, y, test_ratio, rand_state)"
   ]
  },
  {
   "cell_type": "code",
   "execution_count": 255,
   "id": "3e970e79",
   "metadata": {},
   "outputs": [
    {
     "name": "stdout",
     "output_type": "stream",
     "text": [
      "Accuracy on Train data=  0.6717373197141729\n",
      "Accuracy on test data=  0.63392074346835\n"
     ]
    }
   ],
   "source": [
    "from sklearn.naive_bayes import CategoricalNB\n",
    "gnb = CategoricalNB()\n",
    "\n",
    "\n",
    "# Train classifier\n",
    "gnb.fit(XTrain,yTrain)\n",
    "\n",
    "y_pred = gnb.predict(XTest)\n",
    "y_pred_train = gnb.predict(XTrain)\n",
    "\n",
    "# Print results\n",
    "print('Accuracy on Train data= ', metrics.accuracy_score(y_true = yTrain, y_pred = y_pred_train))\n",
    "print('Accuracy on test data= ', metrics.accuracy_score(y_true = yTest, y_pred = y_pred))"
   ]
  },
  {
   "cell_type": "code",
   "execution_count": null,
   "id": "79f161d5",
   "metadata": {},
   "outputs": [],
   "source": []
  }
 ],
 "metadata": {
  "kernelspec": {
   "display_name": "Python 3 (ipykernel)",
   "language": "python",
   "name": "python3"
  },
  "language_info": {
   "codemirror_mode": {
    "name": "ipython",
    "version": 3
   },
   "file_extension": ".py",
   "mimetype": "text/x-python",
   "name": "python",
   "nbconvert_exporter": "python",
   "pygments_lexer": "ipython3",
   "version": "3.9.7"
  }
 },
 "nbformat": 4,
 "nbformat_minor": 5
}
