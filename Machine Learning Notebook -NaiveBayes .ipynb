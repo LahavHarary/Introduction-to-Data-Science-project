{
 "cells": [
  {
   "cell_type": "code",
   "execution_count": 128,
   "id": "b12af26d",
   "metadata": {},
   "outputs": [],
   "source": [
    "import numpy as np\n",
    "from sklearn import metrics\n",
    "from sklearn.model_selection import train_test_split\n",
    "from sklearn.naive_bayes import GaussianNB\n",
    "import pandas as pd\n",
    "from sklearn.naive_bayes import BernoulliNB\n",
    "from sklearn.naive_bayes import CategoricalNB\n",
    "import matplotlib.pyplot as plt\n",
    "from matplotlib.colors import ListedColormap\n",
    "%matplotlib inline"
   ]
  },
  {
   "cell_type": "markdown",
   "id": "e1430f4d",
   "metadata": {},
   "source": [
    "# Functions that will be used"
   ]
  },
  {
   "cell_type": "code",
   "execution_count": 129,
   "id": "83f6c0e6",
   "metadata": {},
   "outputs": [],
   "source": [
    "def load_dataset(file_name):\n",
    "    df = pd.read_csv(file_name)\n",
    "    df=df.drop(columns=[\"Unnamed: 0\"])\n",
    "    return df"
   ]
  },
  {
   "cell_type": "code",
   "execution_count": 130,
   "id": "5c0b3904",
   "metadata": {},
   "outputs": [],
   "source": [
    "def split_df_to_x_y(df,target_column):\n",
    "    y=df[target_column]\n",
    "    features = [col for col in df.columns]\n",
    "    features.remove(target_column)\n",
    "    X=df[features]\n",
    "    return X,y"
   ]
  },
  {
   "cell_type": "code",
   "execution_count": 131,
   "id": "037a51b2",
   "metadata": {},
   "outputs": [],
   "source": [
    "def split_to_train_and_test(X, y, test_ratio, rand_state):\n",
    "    X_train, X_test, y_train, y_test = train_test_split(X,y,test_size=test_ratio,random_state=rand_state)\n",
    "    return X_train, X_test, y_train, y_test\n"
   ]
  },
  {
   "cell_type": "markdown",
   "id": "36fe7334",
   "metadata": {},
   "source": [
    "## NaiveBase- Flow:\n",
    "## Question? Were there injured ? (Yes/No )"
   ]
  },
  {
   "cell_type": "markdown",
   "id": "ac623a9f",
   "metadata": {},
   "source": [
    "### Setting injured and fatalities to bins of [0,1] \n"
   ]
  },
  {
   "cell_type": "markdown",
   "id": "04acec73",
   "metadata": {},
   "source": [
    "### Try the model with GaussianNB classifier"
   ]
  },
  {
   "cell_type": "code",
   "execution_count": 132,
   "id": "8f86efb7",
   "metadata": {},
   "outputs": [],
   "source": [
    "df = load_dataset('df_to_model.csv')"
   ]
  },
  {
   "cell_type": "code",
   "execution_count": 133,
   "id": "2b319dc7",
   "metadata": {},
   "outputs": [],
   "source": [
    "new_injured=pd.cut(df.INJURED,bins=[-1,0,200000],labels=[0,1])\n",
    "df[\"INJURED\"]=new_injured"
   ]
  },
  {
   "cell_type": "code",
   "execution_count": 134,
   "id": "d5ca31c2",
   "metadata": {},
   "outputs": [],
   "source": [
    "new_fatalities=pd.cut(df.FATALITIES,bins=[-1,0,200000],labels=[0,1])\n",
    "df[\"FATALITIES\"]=new_fatalities"
   ]
  },
  {
   "cell_type": "code",
   "execution_count": 135,
   "id": "56f993aa",
   "metadata": {},
   "outputs": [],
   "source": [
    "target_column=\"INJURED\"\n",
    "X,y = split_df_to_x_y(df,target_column)"
   ]
  },
  {
   "cell_type": "code",
   "execution_count": 136,
   "id": "751a0dc4",
   "metadata": {},
   "outputs": [],
   "source": [
    "rand_state=1\n",
    "test_ratio=0.20\n",
    "XTrain, XTest, yTrain, yTest=split_to_train_and_test(X, y, test_ratio, rand_state)"
   ]
  },
  {
   "cell_type": "code",
   "execution_count": 137,
   "id": "00f2a314",
   "metadata": {},
   "outputs": [
    {
     "name": "stdout",
     "output_type": "stream",
     "text": [
      "Accuracy on Train data=  0.6568431896891851\n",
      "Accuracy on test data=  0.6488251797299667\n"
     ]
    }
   ],
   "source": [
    "gnb = GaussianNB()\n",
    "\n",
    "# Train classifier\n",
    "gnb.fit(XTrain,yTrain)\n",
    "\n",
    "y_pred = gnb.predict(XTest)\n",
    "y_pred_train = gnb.predict(XTrain)\n",
    "\n",
    "# Print results\n",
    "print('Accuracy on Train data= ', metrics.accuracy_score(y_true = yTrain, y_pred = y_pred_train))\n",
    "print('Accuracy on test data= ', metrics.accuracy_score(y_true = yTest, y_pred = y_pred))"
   ]
  },
  {
   "cell_type": "markdown",
   "id": "a5ffeec3",
   "metadata": {},
   "source": [
    "### Trying  the model with  BernoulliNB classifier\n",
    "#### because  this classifier is suitable for discrete data and designed for binary/boolean features."
   ]
  },
  {
   "cell_type": "code",
   "execution_count": 138,
   "id": "d06158b1",
   "metadata": {},
   "outputs": [],
   "source": [
    "df = load_dataset('df_to_model.csv')"
   ]
  },
  {
   "cell_type": "code",
   "execution_count": 139,
   "id": "f58a7447",
   "metadata": {},
   "outputs": [],
   "source": [
    "new_fatalities=pd.cut(df.FATALITIES,bins=[-1,0,200000],labels=[0,1])\n",
    "df[\"FATALITIES\"]=new_fatalities"
   ]
  },
  {
   "cell_type": "code",
   "execution_count": 140,
   "id": "a108130f",
   "metadata": {},
   "outputs": [],
   "source": [
    "new_injured=pd.cut(df.INJURED,bins=[-1,0,200000],labels=[0,1])\n",
    "df[\"INJURED\"]=new_injured"
   ]
  },
  {
   "cell_type": "code",
   "execution_count": 141,
   "id": "be6b8a29",
   "metadata": {},
   "outputs": [],
   "source": [
    "target_column=\"INJURED\"\n",
    "X,y = split_df_to_x_y(df,target_column)"
   ]
  },
  {
   "cell_type": "code",
   "execution_count": 142,
   "id": "d3977a48",
   "metadata": {},
   "outputs": [],
   "source": [
    "rand_state=1\n",
    "test_ratio=0.20\n",
    "XTrain, XTest, yTrain, yTest=split_to_train_and_test(X, y, test_ratio, rand_state)"
   ]
  },
  {
   "cell_type": "code",
   "execution_count": 143,
   "id": "a1ada8db",
   "metadata": {},
   "outputs": [
    {
     "name": "stdout",
     "output_type": "stream",
     "text": [
      "Accuracy on Train data=  0.6593529437552058\n",
      "Accuracy on test data=  0.6563650710152551\n"
     ]
    }
   ],
   "source": [
    "from sklearn.naive_bayes import BernoulliNB\n",
    "gnb = BernoulliNB()\n",
    "\n",
    "\n",
    "# Train classifier\n",
    "gnb.fit(XTrain,yTrain)\n",
    "\n",
    "y_pred = gnb.predict(XTest)\n",
    "y_pred_train = gnb.predict(XTrain)\n",
    "\n",
    "# Print results\n",
    "print('Accuracy on Train data= ', metrics.accuracy_score(y_true = yTrain, y_pred = y_pred_train))\n",
    "print('Accuracy on test data= ', metrics.accuracy_score(y_true = yTest, y_pred = y_pred))"
   ]
  },
  {
   "cell_type": "markdown",
   "id": "ab474e92",
   "metadata": {},
   "source": [
    "### Try with CategoricalNB classifier\n",
    "#### because this classifier is suitable for classification with discrete features that are categorically distributed. The categories of each feature are drawn from a categorical distribution."
   ]
  },
  {
   "cell_type": "code",
   "execution_count": 144,
   "id": "d02d1faa",
   "metadata": {},
   "outputs": [],
   "source": [
    "df = load_dataset('df_to_model.csv')"
   ]
  },
  {
   "cell_type": "code",
   "execution_count": 145,
   "id": "96bc25c3",
   "metadata": {},
   "outputs": [],
   "source": [
    "new_fatalities=pd.cut(df.FATALITIES,bins=[-1,0,200000],labels=[0,1])\n",
    "df[\"FATALITIES\"]=new_fatalities"
   ]
  },
  {
   "cell_type": "code",
   "execution_count": 146,
   "id": "1291a669",
   "metadata": {},
   "outputs": [],
   "source": [
    "new_injured=pd.cut(df.INJURED,bins=[-1,0,200000],labels=[0,1])\n",
    "df[\"INJURED\"]=new_injured"
   ]
  },
  {
   "cell_type": "code",
   "execution_count": 147,
   "id": "5d8c55b0",
   "metadata": {},
   "outputs": [],
   "source": [
    "target_column=\"INJURED\"\n",
    "X,y = split_df_to_x_y(df,target_column)"
   ]
  },
  {
   "cell_type": "code",
   "execution_count": 148,
   "id": "a23f6f62",
   "metadata": {},
   "outputs": [],
   "source": [
    "rand_state=1\n",
    "test_ratio=0.20\n",
    "XTrain, XTest, yTrain, yTest=split_to_train_and_test(X, y, test_ratio, rand_state)"
   ]
  },
  {
   "cell_type": "code",
   "execution_count": 149,
   "id": "86c8d30b",
   "metadata": {},
   "outputs": [
    {
     "name": "stdout",
     "output_type": "stream",
     "text": [
      "Accuracy on Train data=  0.7466134759545833\n",
      "Accuracy on test data=  0.6939768542872172\n"
     ]
    }
   ],
   "source": [
    "\n",
    "gnb = CategoricalNB()\n",
    "\n",
    "\n",
    "# Train classifier\n",
    "gnb.fit(XTrain,yTrain)\n",
    "\n",
    "y_pred = gnb.predict(XTest)\n",
    "y_pred_train = gnb.predict(XTrain)\n",
    "\n",
    "# Print results\n",
    "print('Accuracy on Train data= ', metrics.accuracy_score(y_true = yTrain, y_pred = y_pred_train))\n",
    "print('Accuracy on test data= ', metrics.accuracy_score(y_true = yTest, y_pred = y_pred))"
   ]
  },
  {
   "cell_type": "markdown",
   "id": "8abe975b",
   "metadata": {},
   "source": [
    "## Question? Were there fatalities ? (Yes/No )"
   ]
  },
  {
   "cell_type": "markdown",
   "id": "f9a4e999",
   "metadata": {},
   "source": [
    "### Setting injured and fatalities to bins of [0,1] "
   ]
  },
  {
   "cell_type": "markdown",
   "id": "52bd731d",
   "metadata": {},
   "source": [
    "### Try the model with GaussianNB classifier"
   ]
  },
  {
   "cell_type": "code",
   "execution_count": 150,
   "id": "2bc097f6",
   "metadata": {},
   "outputs": [],
   "source": [
    "df = load_dataset('df_to_model.csv')"
   ]
  },
  {
   "cell_type": "code",
   "execution_count": 151,
   "id": "1fba2324",
   "metadata": {},
   "outputs": [],
   "source": [
    "new_fatalities=pd.cut(df.FATALITIES,bins=[-1,0,200000],labels=[0,1])\n",
    "df[\"FATALITIES\"]=new_fatalities"
   ]
  },
  {
   "cell_type": "code",
   "execution_count": 152,
   "id": "08af8e6f",
   "metadata": {},
   "outputs": [],
   "source": [
    "new_injured=pd.cut(df.INJURED,bins=[-1,0,200000],labels=[0,1])\n",
    "df[\"INJURED\"]=new_injured"
   ]
  },
  {
   "cell_type": "code",
   "execution_count": 153,
   "id": "23ecf217",
   "metadata": {},
   "outputs": [],
   "source": [
    "target_column=\"FATALITIES\"\n",
    "X,y = split_df_to_x_y(df,target_column)"
   ]
  },
  {
   "cell_type": "code",
   "execution_count": 154,
   "id": "a1104807",
   "metadata": {},
   "outputs": [],
   "source": [
    "rand_state=1\n",
    "test_ratio=0.20\n",
    "XTrain, XTest, yTrain, yTest=split_to_train_and_test(X, y, test_ratio, rand_state)"
   ]
  },
  {
   "cell_type": "code",
   "execution_count": 155,
   "id": "f6443f03",
   "metadata": {},
   "outputs": [
    {
     "name": "stdout",
     "output_type": "stream",
     "text": [
      "Accuracy on Train data=  0.7644776642847749\n",
      "Accuracy on test data=  0.7664387164650184\n"
     ]
    }
   ],
   "source": [
    "gnb = GaussianNB()\n",
    "\n",
    "\n",
    "# Train classifier\n",
    "gnb.fit(XTrain,yTrain)\n",
    "\n",
    "y_pred = gnb.predict(XTest)\n",
    "y_pred_train = gnb.predict(XTrain)\n",
    "\n",
    "# Print results\n",
    "print('Accuracy on Train data= ', metrics.accuracy_score(y_true = yTrain, y_pred = y_pred_train))\n",
    "print('Accuracy on test data= ', metrics.accuracy_score(y_true = yTest, y_pred = y_pred))"
   ]
  },
  {
   "cell_type": "markdown",
   "id": "2d73e59f",
   "metadata": {},
   "source": [
    "### Try the model with  BernoulliNB classifier\n",
    "#### because  this classifier is suitable for discrete data and designed for binary/boolean features."
   ]
  },
  {
   "cell_type": "code",
   "execution_count": 156,
   "id": "1a426032",
   "metadata": {},
   "outputs": [],
   "source": [
    "df = load_dataset('df_to_model.csv')"
   ]
  },
  {
   "cell_type": "code",
   "execution_count": 157,
   "id": "03c051c7",
   "metadata": {},
   "outputs": [],
   "source": [
    "new_fatalities=pd.cut(df.FATALITIES,bins=[-1,0,200000],labels=[0,1])\n",
    "df[\"FATALITIES\"]=new_fatalities"
   ]
  },
  {
   "cell_type": "code",
   "execution_count": 158,
   "id": "3e7f2a21",
   "metadata": {},
   "outputs": [],
   "source": [
    "new_injured=pd.cut(df.INJURED,bins=[-1,0,200000],labels=[0,1])\n",
    "df[\"INJURED\"]=new_injured"
   ]
  },
  {
   "cell_type": "code",
   "execution_count": 159,
   "id": "a7466ae8",
   "metadata": {},
   "outputs": [],
   "source": [
    "target_column=\"FATALITIES\"\n",
    "X,y = split_df_to_x_y(df,target_column)"
   ]
  },
  {
   "cell_type": "code",
   "execution_count": 160,
   "id": "a35c1552",
   "metadata": {},
   "outputs": [],
   "source": [
    "rand_state=1\n",
    "test_ratio=0.20\n",
    "XTrain, XTest, yTrain, yTest=split_to_train_and_test(X, y, test_ratio, rand_state)"
   ]
  },
  {
   "cell_type": "code",
   "execution_count": 161,
   "id": "6ccc9a6c",
   "metadata": {},
   "outputs": [
    {
     "name": "stdout",
     "output_type": "stream",
     "text": [
      "Accuracy on Train data=  0.7485314102845119\n",
      "Accuracy on test data=  0.7539014553743644\n"
     ]
    }
   ],
   "source": [
    "\n",
    "gnb = BernoulliNB()\n",
    "\n",
    "\n",
    "# Train classifier\n",
    "gnb.fit(XTrain,yTrain)\n",
    "\n",
    "y_pred = gnb.predict(XTest)\n",
    "y_pred_train = gnb.predict(XTrain)\n",
    "\n",
    "# Print results\n",
    "print('Accuracy on Train data= ', metrics.accuracy_score(y_true = yTrain, y_pred = y_pred_train))\n",
    "print('Accuracy on test data= ', metrics.accuracy_score(y_true = yTest, y_pred = y_pred))"
   ]
  },
  {
   "cell_type": "markdown",
   "id": "19eb346f",
   "metadata": {},
   "source": [
    "### Try with CategoricalNB\n",
    "#### because this classifier is suitable for classification with discrete features that are categorically distributed. The categories of each feature are drawn from a categorical distribution."
   ]
  },
  {
   "cell_type": "code",
   "execution_count": 162,
   "id": "a5330118",
   "metadata": {},
   "outputs": [],
   "source": [
    "df = load_dataset('df_to_model.csv')"
   ]
  },
  {
   "cell_type": "code",
   "execution_count": 163,
   "id": "2f34cbe7",
   "metadata": {},
   "outputs": [],
   "source": [
    "new_fatalities=pd.cut(df.FATALITIES,bins=[-1,0,200000],labels=[0,1])\n",
    "df[\"FATALITIES\"]=new_fatalities"
   ]
  },
  {
   "cell_type": "code",
   "execution_count": 164,
   "id": "fb261ab1",
   "metadata": {},
   "outputs": [],
   "source": [
    "new_injured=pd.cut(df.INJURED,bins=[-1,0,200000],labels=[0,1])\n",
    "df[\"INJURED\"]=new_injured"
   ]
  },
  {
   "cell_type": "code",
   "execution_count": 165,
   "id": "3cd6a2a9",
   "metadata": {},
   "outputs": [],
   "source": [
    "target_column=\"FATALITIES\"\n",
    "X,y = split_df_to_x_y(df,target_column)"
   ]
  },
  {
   "cell_type": "code",
   "execution_count": 166,
   "id": "94ef144c",
   "metadata": {},
   "outputs": [],
   "source": [
    "rand_state=1\n",
    "test_ratio=0.20\n",
    "XTrain, XTest, yTrain, yTest=split_to_train_and_test(X, y, test_ratio, rand_state)"
   ]
  },
  {
   "cell_type": "code",
   "execution_count": 167,
   "id": "19edf3c6",
   "metadata": {},
   "outputs": [
    {
     "name": "stdout",
     "output_type": "stream",
     "text": [
      "Accuracy on Train data=  0.7907369251676822\n",
      "Accuracy on test data=  0.7735840785551464\n"
     ]
    }
   ],
   "source": [
    "\n",
    "gnb = CategoricalNB()\n",
    "\n",
    "\n",
    "# Train classifier\n",
    "gnb.fit(XTrain,yTrain)\n",
    "\n",
    "y_pred = gnb.predict(XTest)\n",
    "y_pred_train = gnb.predict(XTrain)\n",
    "\n",
    "# Print results\n",
    "print('Accuracy on Train data= ', metrics.accuracy_score(y_true = yTrain, y_pred = y_pred_train))\n",
    "print('Accuracy on test data= ', metrics.accuracy_score(y_true = yTest, y_pred = y_pred))"
   ]
  }
 ],
 "metadata": {
  "kernelspec": {
   "display_name": "Python 3 (ipykernel)",
   "language": "python",
   "name": "python3"
  },
  "language_info": {
   "codemirror_mode": {
    "name": "ipython",
    "version": 3
   },
   "file_extension": ".py",
   "mimetype": "text/x-python",
   "name": "python",
   "nbconvert_exporter": "python",
   "pygments_lexer": "ipython3",
   "version": "3.9.7"
  }
 },
 "nbformat": 4,
 "nbformat_minor": 5
}
