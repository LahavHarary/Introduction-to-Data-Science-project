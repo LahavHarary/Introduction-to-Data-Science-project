{
 "cells": [
  {
   "cell_type": "code",
   "execution_count": 37,
   "id": "9618d3c1",
   "metadata": {},
   "outputs": [],
   "source": [
    "from bs4 import BeautifulSoup\n",
    "import requests \n",
    "import re\n",
    "import pandas as pd"
   ]
  },
  {
   "cell_type": "markdown",
   "id": "06388bbc",
   "metadata": {},
   "source": [
    "## First part - get Data: Basic functions that will be used \n",
    "Functions include:\n",
    "getPagesToCrawl - a function that creates a list of pages that should be used in order to achieve the full data.\n",
    "getTableDataFromPage - from a single page we get back a table that stores the data\n",
    "cleanHtmlCode - the first step that we take in order to clean our data, we remove the HTML from it and leave the info.\n",
    "createDf - gets 8 lists that contains data and return a df"
   ]
  },
  {
   "cell_type": "code",
   "execution_count": 3,
   "id": "48c7f3e0",
   "metadata": {},
   "outputs": [],
   "source": [
    "def getPagesToCrawl():\n",
    "    baseUrl=\"https://www.start.umd.edu/gtd/search/Results.aspx?page=\"\n",
    "    amountPages = \"&count=2000\" \n",
    "    pageList = []\n",
    "    \n",
    "    for currentPageNumber in range(1,102):\n",
    "        pageList.append(baseUrl + str(currentPageNumber) +amountPages)\n",
    "        \n",
    "    return pageList"
   ]
  },
  {
   "cell_type": "code",
   "execution_count": 4,
   "id": "5f59b87c",
   "metadata": {},
   "outputs": [],
   "source": [
    "def getTableDataFromPage(pageUrl):\n",
    "    user_agent = {'User-agent': 'Mozilla/5.0'}\n",
    "    response = requests.get(pageUrl,headers=user_agent)\n",
    "    soup = BeautifulSoup(response.content, \"html.parser\")\n",
    "    table = soup.find('table')\n",
    "    return table"
   ]
  },
  {
   "cell_type": "code",
   "execution_count": 5,
   "id": "aeffd3ab",
   "metadata": {},
   "outputs": [],
   "source": [
    "def cleanHtmlCode(tableData):\n",
    "    GTD_ID = []\n",
    "    DATE = []\n",
    "    COUNTRY = []\n",
    "    CITY = [] \n",
    "    PERPETRATOR_GROUP = []\n",
    "    FATALITIES = []\n",
    "    INJURED = []\n",
    "    TARGET_TYPE = []\n",
    "\n",
    "    listRows = []\n",
    "    for tr in tableData.findAll(\"tr\",attrs={}):\n",
    "        for td in tr:\n",
    "            if(td != \"\\n\"):\n",
    "                listRows.append(td.text)\n",
    "\n",
    "\n",
    "    # A lot of data that we don't need (The name of the columns (8)) \n",
    "    for i in range(8):\n",
    "        listRows.pop(0)\n",
    "    \n",
    "    for i in range(len(listRows)):\n",
    "        iMod = i%8\n",
    "        if(iMod == 0):\n",
    "            GTD_ID.append(listRows[i])\n",
    "        elif(iMod == 1):\n",
    "            DATE.append(listRows[i])\n",
    "        elif(iMod == 2):\n",
    "            COUNTRY.append(listRows[i])\n",
    "        elif(iMod == 3):\n",
    "            CITY.append(listRows[i])\n",
    "        elif(iMod == 4):\n",
    "            PERPETRATOR_GROUP.append(listRows[i])\n",
    "        elif(iMod == 5):\n",
    "            FATALITIES.append(listRows[i])\n",
    "        elif(iMod == 6):\n",
    "            INJURED.append(listRows[i])\n",
    "        elif(iMod == 7):\n",
    "            TARGET_TYPE.append(listRows[i])\n",
    "       \n",
    "    \n",
    "    return GTD_ID,DATE,COUNTRY,CITY,PERPETRATOR_GROUP,FATALITIES,INJURED,TARGET_TYPE\n"
   ]
  },
  {
   "cell_type": "code",
   "execution_count": 6,
   "id": "d9b4eb2b",
   "metadata": {},
   "outputs": [],
   "source": [
    "def createDf(GTD_ID,DATE,COUNTRY,CITY,PERPETRATOR_GROUP,FATALITIES,INJURED,TARGET_TYPE):\n",
    "    df = pd.DataFrame({\"GTD_ID\":GTD_ID,\n",
    "                   \"DATE\":DATE,\n",
    "                   \"COUNTRY\":COUNTRY,\n",
    "                   \"CITY\":CITY,\n",
    "                   \"PERPETRATOR_GROUP\":PERPETRATOR_GROUP,\n",
    "                   \"FATALITIES\":FATALITIES\n",
    "                   ,\"INJURED\":INJURED,\n",
    "                   \"TARGET_TYPE\":TARGET_TYPE,\n",
    "                   })\n",
    "    return df"
   ]
  },
  {
   "cell_type": "markdown",
   "id": "e9197766",
   "metadata": {},
   "source": [
    "## First part - get Data: Flow"
   ]
  },
  {
   "cell_type": "code",
   "execution_count": 7,
   "id": "b6fa84c0",
   "metadata": {},
   "outputs": [],
   "source": [
    "# 8 Lists that will store the data.\n",
    "GTD_ID = []\n",
    "DATE = []\n",
    "COUNTRY = []\n",
    "CITY = [] \n",
    "PERPETRATOR_GROUP = []\n",
    "FATALITIES = []\n",
    "INJURED = []\n",
    "TARGET_TYPE = []"
   ]
  },
  {
   "cell_type": "code",
   "execution_count": null,
   "id": "3e6b8935",
   "metadata": {},
   "outputs": [],
   "source": [
    "# First we Need the URLS which will be used by the crawlling method.\n",
    "pageList = getPagesToCrawl()\n",
    "\n",
    "# For each page inside our pageList:\n",
    "for page in pageList:\n",
    "    \n",
    "    # Get the table data from the page with getTableDataFromPage function.\n",
    "    tableData = getTableDataFromPage(page)\n",
    "    \n",
    "    # Extract 8 lists (according to parameter) with cleanHtmlCode function.\n",
    "    GTD_ID_temp,DATE_temp,COUNTRY_temp,CITY_temp,PERPETRATOR_GROUP_temp,FATALITIES_temp,INJURED_temp,TARGET_TYPE_temp = cleanHtmlCode(tableData)\n",
    "    \n",
    "    # The the temp lists and EXTEND the data to non-temp list.\n",
    "    GTD_ID.extend(GTD_ID_temp)\n",
    "    DATE.extend(DATE_temp)\n",
    "    COUNTRY.extend(COUNTRY_temp)\n",
    "    CITY.extend(CITY_temp)\n",
    "    PERPETRATOR_GROUP.extend(PERPETRATOR_GROUP_temp)\n",
    "    FATALITIES.extend(FATALITIES_temp)\n",
    "    INJURED.extend(INJURED_temp)\n",
    "    TARGET_TYPE.extend(TARGET_TYPE_temp)"
   ]
  },
  {
   "cell_type": "code",
   "execution_count": 29,
   "id": "140d62ad",
   "metadata": {},
   "outputs": [],
   "source": [
    "# After the crawlling method is done all we have left to do is create a DF with createDf function and save the df to csv file.\n",
    "df = createDf(GTD_ID,DATE,COUNTRY,CITY,PERPETRATOR_GROUP,FATALITIES,INJURED,TARGET_TYPE) \n",
    "df.to_csv('GTD_Data_Frame.csv')"
   ]
  },
  {
   "cell_type": "code",
   "execution_count": 64,
   "id": "d3bb6fa4",
   "metadata": {},
   "outputs": [
    {
     "data": {
      "text/html": [
       "<div>\n",
       "<style scoped>\n",
       "    .dataframe tbody tr th:only-of-type {\n",
       "        vertical-align: middle;\n",
       "    }\n",
       "\n",
       "    .dataframe tbody tr th {\n",
       "        vertical-align: top;\n",
       "    }\n",
       "\n",
       "    .dataframe thead th {\n",
       "        text-align: right;\n",
       "    }\n",
       "</style>\n",
       "<table border=\"1\" class=\"dataframe\">\n",
       "  <thead>\n",
       "    <tr style=\"text-align: right;\">\n",
       "      <th></th>\n",
       "      <th>Unnamed: 0</th>\n",
       "      <th>GTD_ID</th>\n",
       "      <th>DATE</th>\n",
       "      <th>COUNTRY</th>\n",
       "      <th>CITY</th>\n",
       "      <th>PERPETRATOR_GROUP</th>\n",
       "      <th>FATALITIES</th>\n",
       "      <th>INJURED</th>\n",
       "      <th>TARGET_TYPE</th>\n",
       "    </tr>\n",
       "  </thead>\n",
       "  <tbody>\n",
       "    <tr>\n",
       "      <th>0</th>\n",
       "      <td>0</td>\n",
       "      <td>201912310033</td>\n",
       "      <td>2019-12-31</td>\n",
       "      <td>China</td>\n",
       "      <td>Hong Kong</td>\n",
       "      <td>Unknown</td>\n",
       "      <td>0</td>\n",
       "      <td>0</td>\n",
       "      <td>Government (General)</td>\n",
       "    </tr>\n",
       "    <tr>\n",
       "      <th>1</th>\n",
       "      <td>1</td>\n",
       "      <td>201912310032</td>\n",
       "      <td>2019-12-31</td>\n",
       "      <td>India</td>\n",
       "      <td>Bagiot Dora</td>\n",
       "      <td>Unknown</td>\n",
       "      <td>0</td>\n",
       "      <td>1</td>\n",
       "      <td>Private Citizens &amp; Property</td>\n",
       "    </tr>\n",
       "    <tr>\n",
       "      <th>2</th>\n",
       "      <td>2</td>\n",
       "      <td>201912310031</td>\n",
       "      <td>2019-12-31</td>\n",
       "      <td>Sudan</td>\n",
       "      <td>El Geneina</td>\n",
       "      <td>Unknown</td>\n",
       "      <td>2</td>\n",
       "      <td>0</td>\n",
       "      <td>Government (General),Police</td>\n",
       "    </tr>\n",
       "    <tr>\n",
       "      <th>3</th>\n",
       "      <td>3</td>\n",
       "      <td>201912310030</td>\n",
       "      <td>2019-12-31</td>\n",
       "      <td>Sudan</td>\n",
       "      <td>El Geneina</td>\n",
       "      <td>Unknown</td>\n",
       "      <td>2</td>\n",
       "      <td>1</td>\n",
       "      <td>Police</td>\n",
       "    </tr>\n",
       "    <tr>\n",
       "      <th>4</th>\n",
       "      <td>4</td>\n",
       "      <td>201912310028</td>\n",
       "      <td>2019-12-31</td>\n",
       "      <td>Iraq</td>\n",
       "      <td>Baghdad</td>\n",
       "      <td>Unknown</td>\n",
       "      <td>0</td>\n",
       "      <td>0</td>\n",
       "      <td>Private Citizens &amp; Property</td>\n",
       "    </tr>\n",
       "    <tr>\n",
       "      <th>...</th>\n",
       "      <td>...</td>\n",
       "      <td>...</td>\n",
       "      <td>...</td>\n",
       "      <td>...</td>\n",
       "      <td>...</td>\n",
       "      <td>...</td>\n",
       "      <td>...</td>\n",
       "      <td>...</td>\n",
       "      <td>...</td>\n",
       "    </tr>\n",
       "    <tr>\n",
       "      <th>301178</th>\n",
       "      <td>301178</td>\n",
       "      <td>197001000003</td>\n",
       "      <td>1970-01-00</td>\n",
       "      <td>Japan</td>\n",
       "      <td>Fukouka</td>\n",
       "      <td>Unknown</td>\n",
       "      <td>Unknown</td>\n",
       "      <td>Unknown</td>\n",
       "      <td>Government (Diplomatic)</td>\n",
       "    </tr>\n",
       "    <tr>\n",
       "      <th>301179</th>\n",
       "      <td>301179</td>\n",
       "      <td>197001000002</td>\n",
       "      <td>1970-01-00</td>\n",
       "      <td>Greece</td>\n",
       "      <td>Athens</td>\n",
       "      <td>Unknown</td>\n",
       "      <td>Unknown</td>\n",
       "      <td>Unknown</td>\n",
       "      <td>Government (Diplomatic)</td>\n",
       "    </tr>\n",
       "    <tr>\n",
       "      <th>301180</th>\n",
       "      <td>301180</td>\n",
       "      <td>197001000001</td>\n",
       "      <td>1970-01-00</td>\n",
       "      <td>Philippines</td>\n",
       "      <td>Unknown</td>\n",
       "      <td>Unknown</td>\n",
       "      <td>1</td>\n",
       "      <td>0</td>\n",
       "      <td>Journalists &amp; Media</td>\n",
       "    </tr>\n",
       "    <tr>\n",
       "      <th>301181</th>\n",
       "      <td>301181</td>\n",
       "      <td>197000000002</td>\n",
       "      <td>1970-00-00</td>\n",
       "      <td>Mexico</td>\n",
       "      <td>Mexico city</td>\n",
       "      <td>23rd of September Communist League</td>\n",
       "      <td>0</td>\n",
       "      <td>0</td>\n",
       "      <td>Government (Diplomatic)</td>\n",
       "    </tr>\n",
       "    <tr>\n",
       "      <th>301182</th>\n",
       "      <td>301182</td>\n",
       "      <td>197000000001</td>\n",
       "      <td>1970-07-02</td>\n",
       "      <td>Dominican Republic</td>\n",
       "      <td>Santo Domingo</td>\n",
       "      <td>MANO-D</td>\n",
       "      <td>1</td>\n",
       "      <td>0</td>\n",
       "      <td>Private Citizens &amp; Property</td>\n",
       "    </tr>\n",
       "  </tbody>\n",
       "</table>\n",
       "<p>301183 rows × 9 columns</p>\n",
       "</div>"
      ],
      "text/plain": [
       "        Unnamed: 0        GTD_ID        DATE             COUNTRY  \\\n",
       "0                0  201912310033  2019-12-31               China   \n",
       "1                1  201912310032  2019-12-31               India   \n",
       "2                2  201912310031  2019-12-31               Sudan   \n",
       "3                3  201912310030  2019-12-31               Sudan   \n",
       "4                4  201912310028  2019-12-31                Iraq   \n",
       "...            ...           ...         ...                 ...   \n",
       "301178      301178  197001000003  1970-01-00               Japan   \n",
       "301179      301179  197001000002  1970-01-00              Greece   \n",
       "301180      301180  197001000001  1970-01-00         Philippines   \n",
       "301181      301181  197000000002  1970-00-00              Mexico   \n",
       "301182      301182  197000000001  1970-07-02  Dominican Republic   \n",
       "\n",
       "                 CITY                   PERPETRATOR_GROUP FATALITIES  INJURED  \\\n",
       "0           Hong Kong                             Unknown          0        0   \n",
       "1         Bagiot Dora                             Unknown          0        1   \n",
       "2          El Geneina                             Unknown          2        0   \n",
       "3          El Geneina                             Unknown          2        1   \n",
       "4             Baghdad                             Unknown          0        0   \n",
       "...               ...                                 ...        ...      ...   \n",
       "301178        Fukouka                             Unknown    Unknown  Unknown   \n",
       "301179         Athens                             Unknown    Unknown  Unknown   \n",
       "301180        Unknown                             Unknown          1        0   \n",
       "301181    Mexico city  23rd of September Communist League          0        0   \n",
       "301182  Santo Domingo                              MANO-D          1        0   \n",
       "\n",
       "                        TARGET_TYPE  \n",
       "0              Government (General)  \n",
       "1       Private Citizens & Property  \n",
       "2       Government (General),Police  \n",
       "3                            Police  \n",
       "4       Private Citizens & Property  \n",
       "...                             ...  \n",
       "301178      Government (Diplomatic)  \n",
       "301179      Government (Diplomatic)  \n",
       "301180          Journalists & Media  \n",
       "301181      Government (Diplomatic)  \n",
       "301182  Private Citizens & Property  \n",
       "\n",
       "[301183 rows x 9 columns]"
      ]
     },
     "execution_count": 64,
     "metadata": {},
     "output_type": "execute_result"
    }
   ],
   "source": [
    "# Reading the df once again to see that everything is ok\n",
    "df = pd.read_csv('GTD_Data_Frame.csv')\n",
    "df"
   ]
  },
  {
   "cell_type": "code",
   "execution_count": null,
   "id": "af10a746",
   "metadata": {},
   "outputs": [],
   "source": [
    "df = df.drop_duplicates(subset=['GTD_ID'], keep='first')\n",
    "df.to_csv('GTD_Data_Frame_Without_Duplicates.csv')"
   ]
  },
  {
   "cell_type": "markdown",
   "id": "ec4cce3b",
   "metadata": {},
   "source": [
    "##   Second part - Multi-Crawl\n",
    "###  Get more data according to GTD_ID"
   ]
  },
  {
   "cell_type": "code",
   "execution_count": 39,
   "id": "441c1a5c",
   "metadata": {},
   "outputs": [],
   "source": [
    "def getLinksForSecondCrawl(GTD_ID):\n",
    "    baseUrl = \"https://www.start.umd.edu/gtd/search/IncidentSummary.aspx?gtdid=\"\n",
    "    urlList = []\n",
    "    \n",
    "    for id in GTD_ID:\n",
    "        urlList.append(baseUrl +str(id))\n",
    "    \n",
    "    return urlList\n",
    "    "
   ]
  },
  {
   "cell_type": "code",
   "execution_count": 310,
   "id": "20b65368",
   "metadata": {},
   "outputs": [],
   "source": [
    "def crawlForYourLife(url):\n",
    "    #results\n",
    "    user_agent = {'User-agent': 'Mozilla/5.0'}\n",
    "    response = requests.get(url,headers=user_agent)\n",
    "    soup = BeautifulSoup(response.content, \"html.parser\")\n",
    "    mydivs = soup.find_all(\"div\", {\"class\": \"results\"})\n",
    "    \n",
    "    \n",
    "    HowAdditionalInformation = mydivs[4] \n",
    "    \n",
    "    WhatAttackInformationHtmlLabels = mydivs[0].find_all(\"td\", {\"class\": \"label\"})\n",
    "    WhatAttackInformationHtmlValues = mydivs[0].find_all(\"td\", {\"class\": \"value\"})\n",
    "    WhatAdditionalInformationHtmlLabels = mydivs[2].find_all(\"td\", {\"class\": \"label\"})\n",
    "    WhatAdditionalInformationHtmlValues = mydivs[2].find_all(\"td\", {\"class\": \"value\"})\n",
    "    HowAdditionalInformationHtmlLabels = mydivs[4].find_all(\"td\", {\"class\": \"label\"})\n",
    "    HowAdditionalInformationHtmlValues = mydivs[4].find_all(\"td\", {\"class\": \"value\"})\n",
    "    \n",
    "    attackInfoLabelsData = [x.text for x in WhatAttackInformationHtmlLabels]\n",
    "    attackInfoValuesData = [x.text for x in WhatAttackInformationHtmlValues]\n",
    "    \n",
    "    attackInfoLabelsData = [x.text for x in WhatAdditionalInformationHtmlLabels]\n",
    "    attackInfoValuesData = [x.text for x in WhatAdditionalInformationHtmlValues]\n",
    "    \n",
    "    attackInfoLabelsData = [x.text for x in HowAdditionalInformationHtmlLabels]\n",
    "    attackInfoValuesData = [x.text for x in HowAdditionalInformationHtmlValues]\n",
    "    \n",
    "    \n",
    "    attackFullData = {}\n",
    "    for i in range(len(attackInfoLabelsData)):\n",
    "        attackFullData[attackInfoLabelsData[i]] = attackInfoValuesData[i]\n",
    "    \n",
    "    \n",
    "    \n",
    "    #attackFullData\n",
    "    \n",
    "    #return WhatAttackInformationHtmlLabels,WhatAttackInformationHtmlValues\n",
    "    \n",
    "    return attackFullData\n",
    "    \n",
    "    #successfulAttack = []\n",
    "    #hostages = []\n",
    "    #ransom = []\n",
    "    #propertyDamage = []\n",
    "    #suicideAttack = []\n",
    "    #partOfMultipleIncident = []    \n",
    "    \n",
    "    #return HowAdditionalInformationHtmlLabels,HowAdditionalInformationHtmlValues\n",
    "    "
   ]
  },
  {
   "cell_type": "code",
   "execution_count": 311,
   "id": "8bbed204",
   "metadata": {},
   "outputs": [],
   "source": [
    "urlForCheck = \"https://www.start.umd.edu/gtd/search/IncidentSummary.aspx?gtdid=201912270020\"\n",
    "#tdLabel,tdValue = crawlForYourLife(urlForCheck) \n",
    "b = crawlForYourLife(urlForCheck)  "
   ]
  },
  {
   "cell_type": "code",
   "execution_count": 312,
   "id": "4b8751e7",
   "metadata": {},
   "outputs": [
    {
     "name": "stdout",
     "output_type": "stream",
     "text": [
      "{'Suicide Attack?': 'No', 'Part of Multiple Incident?': 'No', 'Criterion 1 (more)': 'Yes', 'Criterion 2 (more)': 'Yes', 'Criterion 3 (more)': 'Yes', 'Doubt Terrorism Proper (more)': 'No'}\n"
     ]
    }
   ],
   "source": [
    "print(b)"
   ]
  },
  {
   "cell_type": "code",
   "execution_count": 313,
   "id": "8eb53b63",
   "metadata": {},
   "outputs": [],
   "source": [
    "df = pd.read_csv('GTD_Data_Frame_Without_Duplicates.csv')"
   ]
  },
  {
   "cell_type": "code",
   "execution_count": 314,
   "id": "52a8cbc4",
   "metadata": {},
   "outputs": [],
   "source": [
    "# GTD_ID will be used in order to get the pages which we need to crawl to get the data \n",
    "GTD_ID = df.GTD_ID"
   ]
  },
  {
   "cell_type": "code",
   "execution_count": 315,
   "id": "66565665",
   "metadata": {},
   "outputs": [],
   "source": [
    "urlList = getLinksForSecondCrawl(GTD_ID)"
   ]
  },
  {
   "cell_type": "code",
   "execution_count": 316,
   "id": "27ff5449",
   "metadata": {},
   "outputs": [],
   "source": [
    "urlForCheck = \"https://www.start.umd.edu/gtd/search/IncidentSummary.aspx?gtdid=201912270020\""
   ]
  },
  {
   "cell_type": "code",
   "execution_count": 317,
   "id": "31f86e85",
   "metadata": {},
   "outputs": [
    {
     "ename": "ValueError",
     "evalue": "too many values to unpack (expected 5)",
     "output_type": "error",
     "traceback": [
      "\u001b[1;31m---------------------------------------------------------------------------\u001b[0m",
      "\u001b[1;31mValueError\u001b[0m                                Traceback (most recent call last)",
      "\u001b[1;32m<ipython-input-317-c0ae809b83f5>\u001b[0m in \u001b[0;36m<module>\u001b[1;34m\u001b[0m\n\u001b[1;32m----> 1\u001b[1;33m \u001b[0mWhatAttackInformationSoup\u001b[0m\u001b[1;33m,\u001b[0m\u001b[0mWhatTargetInformationSoup\u001b[0m\u001b[1;33m,\u001b[0m\u001b[0mWhatAdditionalInformationSoup\u001b[0m\u001b[1;33m,\u001b[0m\u001b[0mHowWeaponInformation\u001b[0m\u001b[1;33m,\u001b[0m\u001b[0mHowAdditionalInformation\u001b[0m \u001b[1;33m=\u001b[0m \u001b[0mcrawlForYourLife\u001b[0m\u001b[1;33m(\u001b[0m\u001b[0murlForCheck\u001b[0m\u001b[1;33m)\u001b[0m\u001b[1;33m\u001b[0m\u001b[1;33m\u001b[0m\u001b[0m\n\u001b[0m",
      "\u001b[1;31mValueError\u001b[0m: too many values to unpack (expected 5)"
     ]
    }
   ],
   "source": [
    "WhatAttackInformationSoup,WhatTargetInformationSoup,WhatAdditionalInformationSoup,HowWeaponInformation,HowAdditionalInformation = crawlForYourLife(urlForCheck)"
   ]
  },
  {
   "cell_type": "code",
   "execution_count": 318,
   "id": "893c8482",
   "metadata": {},
   "outputs": [
    {
     "data": {
      "text/plain": [
       "<div class=\"results\">\n",
       "<table cellspacing=\"0\">\n",
       "<caption>Additional Information</caption>\n",
       "<tbody><tr class=\"white\"><td class=\"label\">Suicide Attack?</td><td class=\"value\">No</td></tr><tr class=\"white\"><td class=\"label\">Part of Multiple Incident?</td><td class=\"value\">No</td></tr>\n",
       "<tr class=\"dark-gray\"><td class=\"label\">Criterion 1 (<a href=\"#moreonCriteria\" id=\"popupCriterionOne\" rel=\"more\">more</a>)</td>\n",
       "<td class=\"value\">Yes</td></tr>\n",
       "<tr class=\"white\"><td class=\"label\">Criterion 2 (<a href=\"#moreonCriteria#two\" id=\"popupCriterionTwo\" rel=\"more\">more</a>)</td>\n",
       "<td class=\"value\">Yes</td></tr>\n",
       "<tr class=\"dark-gray\"><td class=\"label\">Criterion 3 (<a href=\"#moreCriteria#three\" id=\"popupCriterionThree\" rel=\"more\">more</a>)</td>\n",
       "<td class=\"value\">Yes</td></tr>\n",
       "<tr class=\"white\"><td class=\"label\">Doubt Terrorism Proper (<a href=\"#moreCriteria#dtp\" id=\"popupCriteriaDTP\" rel=\"more\">more</a>)</td>\n",
       "<td class=\"value\">No</td></tr>\n",
       "</tbody>\n",
       "</table>\n",
       "</div>"
      ]
     },
     "execution_count": 318,
     "metadata": {},
     "output_type": "execute_result"
    }
   ],
   "source": [
    "HowAdditionalInformation "
   ]
  },
  {
   "cell_type": "code",
   "execution_count": null,
   "id": "a7c923b5",
   "metadata": {},
   "outputs": [],
   "source": []
  },
  {
   "cell_type": "code",
   "execution_count": null,
   "id": "7d199194",
   "metadata": {},
   "outputs": [],
   "source": []
  }
 ],
 "metadata": {
  "kernelspec": {
   "display_name": "Python 3",
   "language": "python",
   "name": "python3"
  },
  "language_info": {
   "codemirror_mode": {
    "name": "ipython",
    "version": 3
   },
   "file_extension": ".py",
   "mimetype": "text/x-python",
   "name": "python",
   "nbconvert_exporter": "python",
   "pygments_lexer": "ipython3",
   "version": "3.8.8"
  }
 },
 "nbformat": 4,
 "nbformat_minor": 5
}
